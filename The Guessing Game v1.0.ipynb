{
 "cells": [
  {
   "cell_type": "markdown",
   "metadata": {},
   "source": [
    "# WELCOME TO GUESSING GAME!\n",
    "\n",
    "*I'm thinking of a number between 1 and 100*\n",
    "\n",
    "  * If your guess is more than 10 away from my number, I'll tell you you're <span style=\"color:blue\">COLD!  </span><br />\n",
    "  * If your guess is within 10 of my number, I'll tell you you're <span style=\"color:red\">WARM!  </span> <br />\n",
    "  * If your guess is farther than your most recent guess, I'll say you're getting <span style=\"color:blue\">COLDER  </span> <br />\n",
    "  * If your guess is closer than your most recent guess, I'll say you're getting <span style=\"color:red\">WARMER  </span> <br />\n",
    "<br />\n",
    "<font size=5%><strong>LET'S PLAY!</strong></font>"
   ]
  },
  {
   "cell_type": "code",
   "execution_count": null,
   "metadata": {
    "scrolled": false
   },
   "outputs": [],
   "source": [
    "import random\n",
    "a= random.randint(1,100)\n",
    "\n",
    "print(\"\\nI am thinking of a number between 1 to 100, guess the number ;)\")\n",
    "\n",
    "b=[]\n",
    "while True: \n",
    "    try:\n",
    "        n=(int(input('\\nEnter your first guess:')))\n",
    "        b.append(n)\n",
    "    except:\n",
    "        print(\"\\nInvalid input, please enter a number between 1 to 100\")\n",
    "        continue\n",
    "    else:\n",
    "        break\n",
    "\n",
    "if b[-1] > 100 or b[-1] < 0:\n",
    "        print(\"\\nOUT OF BOUNDS!\")\n",
    "elif b[-1] == a:\n",
    "        print(\"\\nBINGO!\")\n",
    "        print(\"\\nYou guessed the number on your first attempt\")\n",
    "elif b[-1] in list(range (a-10,a+11)):\n",
    "        print('\\nWARM!')\n",
    "elif b[-1] > a+10 or b[-1] < a-10:\n",
    "        print(\"\\nCOLD!\")\n",
    "                \n",
    "while b[-1] != a:\n",
    "    while True: \n",
    "        try:\n",
    "            n=(int(input('\\nEnter your next guess:')))\n",
    "            b.append(n)\n",
    "        except:\n",
    "            print(\"\\nInvalid input, please enter a number between 1 to 100\")\n",
    "            continue\n",
    "        else:\n",
    "            break\n",
    "                \n",
    "    if b[-1] == a:\n",
    "        print(\"\\nBINGO!, You guessed the number in {} attempts.\".format(len(b))) \n",
    "    elif b[-1] > 100 or b[-1] < 0:\n",
    "        print(\"\\nOUT OF BOUNDS!\")\n",
    "    elif abs(b[-1]-a) < abs(b[-2]-a):\n",
    "        print('\\nWARMER')\n",
    "    elif abs(b[-1]-a) >= abs(b[-2]-a):\n",
    "        print(\"\\nCOLDER\")\n",
    "    elif (b[-1]) == (b[-2]):\n",
    "        print(\"\\nYou've guess the same no. again!\")\n",
    "        continue      \n",
    "## Press Shift + Enter to begin"
   ]
  }
 ],
 "metadata": {
  "kernelspec": {
   "display_name": "Python 3",
   "language": "python",
   "name": "python3"
  },
  "language_info": {
   "codemirror_mode": {
    "name": "ipython",
    "version": 3
   },
   "file_extension": ".py",
   "mimetype": "text/x-python",
   "name": "python",
   "nbconvert_exporter": "python",
   "pygments_lexer": "ipython3",
   "version": "3.7.6"
  }
 },
 "nbformat": 4,
 "nbformat_minor": 2
}
